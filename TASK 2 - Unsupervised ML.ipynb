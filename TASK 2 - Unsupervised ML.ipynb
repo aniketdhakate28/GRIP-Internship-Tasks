{
 "cells": [
  {
   "cell_type": "markdown",
   "id": "020fc034",
   "metadata": {},
   "source": [
    "# **Author : Aniket Anil Dhakate**"
   ]
  },
  {
   "cell_type": "markdown",
   "id": "98728cf0",
   "metadata": {},
   "source": [
    "# **Task 2 : Prediction using Unsupervised Machine Learning**"
   ]
  },
  {
   "cell_type": "markdown",
   "id": "46204206",
   "metadata": {},
   "source": [
    "**In this K-means clustering task I tried to predict the optimum number of clusters and represent it visually from the given ‘Iris’ dataset.**"
   ]
  },
  {
   "cell_type": "markdown",
   "id": "dc35e205",
   "metadata": {},
   "source": [
    "# Problem Statement\n",
    "\n",
    "From the given **IRIS** Dataset predict the optimal number of clusters and represent it visually"
   ]
  },
  {
   "cell_type": "markdown",
   "id": "52273517",
   "metadata": {},
   "source": [
    "# 1. Import Libraries"
   ]
  },
  {
   "cell_type": "code",
   "execution_count": 1,
   "id": "e9277440",
   "metadata": {},
   "outputs": [],
   "source": [
    "# suppress display of warnings\n",
    "import warnings\n",
    "warnings.filterwarnings(\"ignore\")\n",
    "\n",
    "# 'Pandas' is used for data manipulation and analysis\n",
    "import pandas as pd \n",
    "from sklearn import datasets\n",
    "\n",
    "# 'Numpy' is used for mathematical operations on large, multi-dimensional arrays and matrices\n",
    "import numpy as np\n",
    "\n",
    "# 'Matplotlib' is a data visualization library for 2D and 3D plots, built on numpy\n",
    "import matplotlib.pyplot as plt\n",
    "\n",
    "# 'Seaborn' is based on matplotlib; used for plotting statistical graphics\n",
    "import seaborn as sns\n",
    "\n",
    "# use below code to convert the 'exponential' values to float\n",
    "np.set_printoptions(suppress=True)\n",
    "\n",
    "# import functions from sklearn to perform different clustering algorithms\n",
    "from sklearn.preprocessing import StandardScaler\n",
    "from sklearn.cluster import KMeans\n",
    "from sklearn.metrics import silhouette_score\n",
    "from sklearn.cluster import AgglomerativeClustering\n",
    "from sklearn.cluster import DBSCAN\n",
    "from sklearn.metrics.pairwise import euclidean_distances\n",
    "\n",
    "# import functions from scipy to plot the dendrogram\n",
    "from scipy.cluster.hierarchy import linkage\n",
    "from scipy.cluster.hierarchy import dendrogram\n",
    "\n",
    "# 'PCA' function to perform principal component analysis using the sklearn library\n",
    "from sklearn.decomposition import PCA"
   ]
  },
  {
   "cell_type": "code",
   "execution_count": 2,
   "id": "3b7d0e63",
   "metadata": {},
   "outputs": [],
   "source": [
    "# set the plot size using 'rcParams'\n",
    "# once the plot size is set using 'rcParams', it sets the size of all the forthcoming plots in the file\n",
    "# pass width and height in inches to 'figure.figsize' \n",
    "plt.rcParams['figure.figsize'] = [15,8]"
   ]
  },
  {
   "cell_type": "markdown",
   "id": "3b8f1d64",
   "metadata": {},
   "source": [
    "# 2. Read Data"
   ]
  },
  {
   "cell_type": "code",
   "execution_count": 3,
   "id": "fbdbf163",
   "metadata": {},
   "outputs": [
    {
     "data": {
      "text/html": [
       "<div>\n",
       "<style scoped>\n",
       "    .dataframe tbody tr th:only-of-type {\n",
       "        vertical-align: middle;\n",
       "    }\n",
       "\n",
       "    .dataframe tbody tr th {\n",
       "        vertical-align: top;\n",
       "    }\n",
       "\n",
       "    .dataframe thead th {\n",
       "        text-align: right;\n",
       "    }\n",
       "</style>\n",
       "<table border=\"1\" class=\"dataframe\">\n",
       "  <thead>\n",
       "    <tr style=\"text-align: right;\">\n",
       "      <th></th>\n",
       "      <th>Id</th>\n",
       "      <th>SepalLengthCm</th>\n",
       "      <th>SepalWidthCm</th>\n",
       "      <th>PetalLengthCm</th>\n",
       "      <th>PetalWidthCm</th>\n",
       "      <th>Species</th>\n",
       "    </tr>\n",
       "  </thead>\n",
       "  <tbody>\n",
       "    <tr>\n",
       "      <th>0</th>\n",
       "      <td>1</td>\n",
       "      <td>5.1</td>\n",
       "      <td>3.5</td>\n",
       "      <td>1.4</td>\n",
       "      <td>0.2</td>\n",
       "      <td>Iris-setosa</td>\n",
       "    </tr>\n",
       "    <tr>\n",
       "      <th>1</th>\n",
       "      <td>2</td>\n",
       "      <td>4.9</td>\n",
       "      <td>3.0</td>\n",
       "      <td>1.4</td>\n",
       "      <td>0.2</td>\n",
       "      <td>Iris-setosa</td>\n",
       "    </tr>\n",
       "    <tr>\n",
       "      <th>2</th>\n",
       "      <td>3</td>\n",
       "      <td>4.7</td>\n",
       "      <td>3.2</td>\n",
       "      <td>1.3</td>\n",
       "      <td>0.2</td>\n",
       "      <td>Iris-setosa</td>\n",
       "    </tr>\n",
       "    <tr>\n",
       "      <th>3</th>\n",
       "      <td>4</td>\n",
       "      <td>4.6</td>\n",
       "      <td>3.1</td>\n",
       "      <td>1.5</td>\n",
       "      <td>0.2</td>\n",
       "      <td>Iris-setosa</td>\n",
       "    </tr>\n",
       "    <tr>\n",
       "      <th>4</th>\n",
       "      <td>5</td>\n",
       "      <td>5.0</td>\n",
       "      <td>3.6</td>\n",
       "      <td>1.4</td>\n",
       "      <td>0.2</td>\n",
       "      <td>Iris-setosa</td>\n",
       "    </tr>\n",
       "  </tbody>\n",
       "</table>\n",
       "</div>"
      ],
      "text/plain": [
       "   Id  SepalLengthCm  SepalWidthCm  PetalLengthCm  PetalWidthCm      Species\n",
       "0   1            5.1           3.5            1.4           0.2  Iris-setosa\n",
       "1   2            4.9           3.0            1.4           0.2  Iris-setosa\n",
       "2   3            4.7           3.2            1.3           0.2  Iris-setosa\n",
       "3   4            4.6           3.1            1.5           0.2  Iris-setosa\n",
       "4   5            5.0           3.6            1.4           0.2  Iris-setosa"
      ]
     },
     "execution_count": 3,
     "metadata": {},
     "output_type": "execute_result"
    }
   ],
   "source": [
    "# read excel data file using pandas\n",
    "iris = pd.read_csv('iris.csv')\n",
    "\n",
    "# head() to display top five rows\n",
    "iris.head()\n",
    "\n",
    "# Note: To display more rows, example 10, use head(10)"
   ]
  },
  {
   "cell_type": "markdown",
   "id": "520d5ff2",
   "metadata": {},
   "source": [
    "**Delete irrelevant Columns**"
   ]
  },
  {
   "cell_type": "code",
   "execution_count": 4,
   "id": "2d2d5cc8",
   "metadata": {},
   "outputs": [],
   "source": [
    "iris.drop(['Id','Species'],axis=1,inplace=True)"
   ]
  },
  {
   "cell_type": "markdown",
   "id": "d3c83ad9",
   "metadata": {},
   "source": [
    "# 3. Exploratory Data Analysis"
   ]
  },
  {
   "cell_type": "markdown",
   "id": "87f9746a",
   "metadata": {},
   "source": [
    "\t\n",
    "Data preparation is the process of cleaning and transforming raw data before building models.\n",
    "\n",
    "Here we analyze the data with the following steps:\n",
    "1. Check dimensions of the dataframe in terms of rows and columns\n",
    "2. Check the data type. Refer data definition to validate the data type\n",
    "3. Check the distribution of variables\n",
    "4. Check for the outliers \n",
    "5. Study summary statistics\n",
    "6. Check for missing values\n",
    "7. Scale the data\n",
    "\n",
    "Note: it is an art to explore the data and one needs more and more practice to gain expertise in this area."
   ]
  },
  {
   "cell_type": "markdown",
   "id": "dad9f501",
   "metadata": {},
   "source": [
    "### 3.1 Understand the Dataset"
   ]
  },
  {
   "cell_type": "markdown",
   "id": "71f3e26e",
   "metadata": {},
   "source": [
    "**Dimensions of the data**"
   ]
  },
  {
   "cell_type": "code",
   "execution_count": 5,
   "id": "c2b056cc",
   "metadata": {},
   "outputs": [
    {
     "data": {
      "text/plain": [
       "(150, 4)"
      ]
     },
     "execution_count": 5,
     "metadata": {},
     "output_type": "execute_result"
    }
   ],
   "source": [
    "# 'shape' function gives the total number of rows and columns in the data\n",
    "iris.shape"
   ]
  },
  {
   "cell_type": "markdown",
   "id": "f19ac90e",
   "metadata": {},
   "source": [
    "**There are 150 observations and 4 columns in the daset**"
   ]
  },
  {
   "cell_type": "markdown",
   "id": "68796da3",
   "metadata": {},
   "source": [
    "### 3.2 Data Type\n",
    "\n",
    "The main data types stored in Pandas data frames are the object, float, int64, bool, and datetime64. To understand each attribute of our data, it is always good for us to know the data type of each column."
   ]
  },
  {
   "cell_type": "markdown",
   "id": "fa5a6eb5",
   "metadata": {},
   "source": [
    "In our dataset, we have numerical and categorical variables. The numerical variables should have data type 'int64' while categorical variables should have data type 'object'.\n",
    "\n",
    "1. Check for the data type\n",
    "2. For any incorrect data type, change the data type with the appropriate type\n",
    "3. Recheck for the data type"
   ]
  },
  {
   "cell_type": "markdown",
   "id": "5613569e",
   "metadata": {},
   "source": [
    "**1. Check for the data type**"
   ]
  },
  {
   "cell_type": "code",
   "execution_count": 6,
   "id": "ebe9b973",
   "metadata": {},
   "outputs": [
    {
     "data": {
      "text/plain": [
       "SepalLengthCm    float64\n",
       "SepalWidthCm     float64\n",
       "PetalLengthCm    float64\n",
       "PetalWidthCm     float64\n",
       "dtype: object"
      ]
     },
     "execution_count": 6,
     "metadata": {},
     "output_type": "execute_result"
    }
   ],
   "source": [
    "iris.dtypes"
   ]
  },
  {
   "cell_type": "markdown",
   "id": "cd3f4110",
   "metadata": {},
   "source": [
    "#### **All the variables have the data type as per the data definition. Thus, there is no need for type conversion**"
   ]
  },
  {
   "cell_type": "markdown",
   "id": "8dbdbfd8",
   "metadata": {},
   "source": [
    "### 3.3 Distribution of Variables"
   ]
  },
  {
   "cell_type": "markdown",
   "id": "6ee72d89",
   "metadata": {},
   "source": [
    "**Check the distribution of all the variables.**"
   ]
  },
  {
   "cell_type": "markdown",
   "id": "492a1207",
   "metadata": {},
   "source": [
    "As all the variables are numerical, we plot the boxplot for each variable to check the distribution. Also, we can use these boxplots to identify the outliers in the variables."
   ]
  },
  {
   "cell_type": "code",
   "execution_count": 7,
   "id": "8a314f93",
   "metadata": {},
   "outputs": [
    {
     "data": {
      "image/png": "[encoded data removed]",
      "text/plain": [
       "<Figure size 1500x800 with 4 Axes>"
      ]
     },
     "metadata": {},
     "output_type": "display_data"
    }
   ],
   "source": [
    "c=1\n",
    "for i in iris:\n",
    "    plt.subplot(3,4,c)\n",
    "    sns.boxplot(iris[i])\n",
    "    c+=1\n",
    "    plt.title(i)\n",
    "plt.tight_layout()\n",
    "plt.show()"
   ]
  },
  {
   "cell_type": "markdown",
   "id": "b54a8539",
   "metadata": {},
   "source": [
    "**The above boxplots show that the all variable is near normally distributed.**"
   ]
  },
  {
   "cell_type": "markdown",
   "id": "d05cd704",
   "metadata": {},
   "source": [
    "### 3.4 Analysis of Outliers"
   ]
  },
  {
   "cell_type": "markdown",
   "id": "8778a466",
   "metadata": {},
   "source": [
    "**Importance of detecting an outlier**\n",
    "\n",
    "An outlier is an observation that appears to deviate distinctly from other observations in the data. If the outliers are not removed, the model accuracy may decrease.\n",
    "\n",
    "The data distribution in the previous section exhibits that there is Np outliers in the data.Hence, we do not have to outliers treatment."
   ]
  },
  {
   "cell_type": "markdown",
   "id": "e6e513ea",
   "metadata": {},
   "source": [
    "### 3.5 Summary Statistics"
   ]
  },
  {
   "cell_type": "markdown",
   "id": "629c3192",
   "metadata": {},
   "source": [
    "**Check the statistical summary of all the variables.**"
   ]
  },
  {
   "cell_type": "code",
   "execution_count": 8,
   "id": "57ef2773",
   "metadata": {},
   "outputs": [
    {
     "data": {
      "text/html": [
       "<div>\n",
       "<style scoped>\n",
       "    .dataframe tbody tr th:only-of-type {\n",
       "        vertical-align: middle;\n",
       "    }\n",
       "\n",
       "    .dataframe tbody tr th {\n",
       "        vertical-align: top;\n",
       "    }\n",
       "\n",
       "    .dataframe thead th {\n",
       "        text-align: right;\n",
       "    }\n",
       "</style>\n",
       "<table border=\"1\" class=\"dataframe\">\n",
       "  <thead>\n",
       "    <tr style=\"text-align: right;\">\n",
       "      <th></th>\n",
       "      <th>SepalLengthCm</th>\n",
       "      <th>SepalWidthCm</th>\n",
       "      <th>PetalLengthCm</th>\n",
       "      <th>PetalWidthCm</th>\n",
       "    </tr>\n",
       "  </thead>\n",
       "  <tbody>\n",
       "    <tr>\n",
       "      <th>count</th>\n",
       "      <td>150.000000</td>\n",
       "      <td>150.000000</td>\n",
       "      <td>150.000000</td>\n",
       "      <td>150.000000</td>\n",
       "    </tr>\n",
       "    <tr>\n",
       "      <th>mean</th>\n",
       "      <td>5.843333</td>\n",
       "      <td>3.054000</td>\n",
       "      <td>3.758667</td>\n",
       "      <td>1.198667</td>\n",
       "    </tr>\n",
       "    <tr>\n",
       "      <th>std</th>\n",
       "      <td>0.828066</td>\n",
       "      <td>0.433594</td>\n",
       "      <td>1.764420</td>\n",
       "      <td>0.763161</td>\n",
       "    </tr>\n",
       "    <tr>\n",
       "      <th>min</th>\n",
       "      <td>4.300000</td>\n",
       "      <td>2.000000</td>\n",
       "      <td>1.000000</td>\n",
       "      <td>0.100000</td>\n",
       "    </tr>\n",
       "    <tr>\n",
       "      <th>25%</th>\n",
       "      <td>5.100000</td>\n",
       "      <td>2.800000</td>\n",
       "      <td>1.600000</td>\n",
       "      <td>0.300000</td>\n",
       "    </tr>\n",
       "    <tr>\n",
       "      <th>50%</th>\n",
       "      <td>5.800000</td>\n",
       "      <td>3.000000</td>\n",
       "      <td>4.350000</td>\n",
       "      <td>1.300000</td>\n",
       "    </tr>\n",
       "    <tr>\n",
       "      <th>75%</th>\n",
       "      <td>6.400000</td>\n",
       "      <td>3.300000</td>\n",
       "      <td>5.100000</td>\n",
       "      <td>1.800000</td>\n",
       "    </tr>\n",
       "    <tr>\n",
       "      <th>max</th>\n",
       "      <td>7.900000</td>\n",
       "      <td>4.400000</td>\n",
       "      <td>6.900000</td>\n",
       "      <td>2.500000</td>\n",
       "    </tr>\n",
       "  </tbody>\n",
       "</table>\n",
       "</div>"
      ],
      "text/plain": [
       "       SepalLengthCm  SepalWidthCm  PetalLengthCm  PetalWidthCm\n",
       "count     150.000000    150.000000     150.000000    150.000000\n",
       "mean        5.843333      3.054000       3.758667      1.198667\n",
       "std         0.828066      0.433594       1.764420      0.763161\n",
       "min         4.300000      2.000000       1.000000      0.100000\n",
       "25%         5.100000      2.800000       1.600000      0.300000\n",
       "50%         5.800000      3.000000       4.350000      1.300000\n",
       "75%         6.400000      3.300000       5.100000      1.800000\n",
       "max         7.900000      4.400000       6.900000      2.500000"
      ]
     },
     "execution_count": 8,
     "metadata": {},
     "output_type": "execute_result"
    }
   ],
   "source": [
    "# the describe() returns the statistical summary of the variables\n",
    "# by default, it returns the summary of numerical variables\n",
    "iris.describe()"
   ]
  },
  {
   "cell_type": "markdown",
   "id": "6fdd83c1",
   "metadata": {},
   "source": [
    "\t\n",
    "The above output illustrates the summary statistics of the numerical variables.\n",
    "The average sepal lentgh is 5.84 CM. Whereas the average Sepal Width is 3.05 CM."
   ]
  },
  {
   "cell_type": "markdown",
   "id": "65792314",
   "metadata": {},
   "source": [
    "### 3.6 Missing Values"
   ]
  },
  {
   "cell_type": "markdown",
   "id": "ffe2b4ea",
   "metadata": {},
   "source": [
    "**First, run a check for the presence of missing values and their percentage for each column. Then choose the right approach to remove them.**"
   ]
  },
  {
   "cell_type": "code",
   "execution_count": 9,
   "id": "a287b047",
   "metadata": {},
   "outputs": [
    {
     "data": {
      "image/png": "[encoded data removed]",
      "text/plain": [
       "<Figure size 1500x800 with 1 Axes>"
      ]
     },
     "metadata": {},
     "output_type": "display_data"
    }
   ],
   "source": [
    "# plot heatmap to check null values\n",
    "# the 'isnull()' returns the boolean output with value 'True' for the mising entry\n",
    "# 'cbar = False' does not show the color axis \n",
    "sns.heatmap(iris.isnull(), cbar=False)\n",
    "\n",
    "# set the axes and plot labels\n",
    "# set the font size using 'fontsize'\n",
    "plt.title('Heatmap for Missing Values', fontsize = 15)\n",
    "plt.xlabel('Variables', fontsize = 15)\n",
    "plt.ylabel('Observations', fontsize = 15)\n",
    "\n",
    "# display the plot\n",
    "plt.show()"
   ]
  },
  {
   "cell_type": "markdown",
   "id": "264aea30",
   "metadata": {},
   "source": [
    "**The above plot shows that there are no missing values in the data.**\n",
    "\n",
    "**Note: The heatmap represents the missing values with the horizontal non-black colored lines across the observation and the variable that contain missing data.**"
   ]
  },
  {
   "cell_type": "markdown",
   "id": "90044306",
   "metadata": {},
   "source": [
    "### 3.7 Prepare the Data\n",
    "\n",
    "Feature scaling is used to transform all the variables in the same range. If the variables are not in the same range, then the variable with higher values can dominate our final result.\n",
    "\n",
    "The two most discussed scaling methods are min-max normalization and z-score normalization (aka standardization)."
   ]
  },
  {
   "cell_type": "markdown",
   "id": "6f474344",
   "metadata": {},
   "source": [
    "**Scale the data**\n",
    "\n",
    "Here let us use the z-score normalization (i.e. standardization) technique to scale the dataset. In the scaled data, each variable will have a mean 0 and a standard deviation of 1."
   ]
  },
  {
   "cell_type": "code",
   "execution_count": 10,
   "id": "db94b111",
   "metadata": {},
   "outputs": [
    {
     "data": {
      "text/html": [
       "<div>\n",
       "<style scoped>\n",
       "    .dataframe tbody tr th:only-of-type {\n",
       "        vertical-align: middle;\n",
       "    }\n",
       "\n",
       "    .dataframe tbody tr th {\n",
       "        vertical-align: top;\n",
       "    }\n",
       "\n",
       "    .dataframe thead th {\n",
       "        text-align: right;\n",
       "    }\n",
       "</style>\n",
       "<table border=\"1\" class=\"dataframe\">\n",
       "  <thead>\n",
       "    <tr style=\"text-align: right;\">\n",
       "      <th></th>\n",
       "      <th>SepalLengthCm</th>\n",
       "      <th>SepalWidthCm</th>\n",
       "      <th>PetalLengthCm</th>\n",
       "      <th>PetalWidthCm</th>\n",
       "    </tr>\n",
       "  </thead>\n",
       "  <tbody>\n",
       "    <tr>\n",
       "      <th>0</th>\n",
       "      <td>5.1</td>\n",
       "      <td>3.5</td>\n",
       "      <td>1.4</td>\n",
       "      <td>0.2</td>\n",
       "    </tr>\n",
       "    <tr>\n",
       "      <th>1</th>\n",
       "      <td>4.9</td>\n",
       "      <td>3.0</td>\n",
       "      <td>1.4</td>\n",
       "      <td>0.2</td>\n",
       "    </tr>\n",
       "    <tr>\n",
       "      <th>2</th>\n",
       "      <td>4.7</td>\n",
       "      <td>3.2</td>\n",
       "      <td>1.3</td>\n",
       "      <td>0.2</td>\n",
       "    </tr>\n",
       "    <tr>\n",
       "      <th>3</th>\n",
       "      <td>4.6</td>\n",
       "      <td>3.1</td>\n",
       "      <td>1.5</td>\n",
       "      <td>0.2</td>\n",
       "    </tr>\n",
       "    <tr>\n",
       "      <th>4</th>\n",
       "      <td>5.0</td>\n",
       "      <td>3.6</td>\n",
       "      <td>1.4</td>\n",
       "      <td>0.2</td>\n",
       "    </tr>\n",
       "  </tbody>\n",
       "</table>\n",
       "</div>"
      ],
      "text/plain": [
       "   SepalLengthCm  SepalWidthCm  PetalLengthCm  PetalWidthCm\n",
       "0            5.1           3.5            1.4           0.2\n",
       "1            4.9           3.0            1.4           0.2\n",
       "2            4.7           3.2            1.3           0.2\n",
       "3            4.6           3.1            1.5           0.2\n",
       "4            5.0           3.6            1.4           0.2"
      ]
     },
     "execution_count": 10,
     "metadata": {},
     "output_type": "execute_result"
    }
   ],
   "source": [
    "# create a copy of the original dataset \n",
    "features = iris.copy()\n",
    "\n",
    "# head() to display top five rows\n",
    "features.head()"
   ]
  },
  {
   "cell_type": "code",
   "execution_count": 11,
   "id": "37b1e2b9",
   "metadata": {},
   "outputs": [
    {
     "data": {
      "text/html": [
       "<div>\n",
       "<style scoped>\n",
       "    .dataframe tbody tr th:only-of-type {\n",
       "        vertical-align: middle;\n",
       "    }\n",
       "\n",
       "    .dataframe tbody tr th {\n",
       "        vertical-align: top;\n",
       "    }\n",
       "\n",
       "    .dataframe thead th {\n",
       "        text-align: right;\n",
       "    }\n",
       "</style>\n",
       "<table border=\"1\" class=\"dataframe\">\n",
       "  <thead>\n",
       "    <tr style=\"text-align: right;\">\n",
       "      <th></th>\n",
       "      <th>SepalLengthCm</th>\n",
       "      <th>SepalWidthCm</th>\n",
       "      <th>PetalLengthCm</th>\n",
       "      <th>PetalWidthCm</th>\n",
       "    </tr>\n",
       "  </thead>\n",
       "  <tbody>\n",
       "    <tr>\n",
       "      <th>0</th>\n",
       "      <td>-0.900681</td>\n",
       "      <td>1.032057</td>\n",
       "      <td>-1.341272</td>\n",
       "      <td>-1.312977</td>\n",
       "    </tr>\n",
       "    <tr>\n",
       "      <th>1</th>\n",
       "      <td>-1.143017</td>\n",
       "      <td>-0.124958</td>\n",
       "      <td>-1.341272</td>\n",
       "      <td>-1.312977</td>\n",
       "    </tr>\n",
       "    <tr>\n",
       "      <th>2</th>\n",
       "      <td>-1.385353</td>\n",
       "      <td>0.337848</td>\n",
       "      <td>-1.398138</td>\n",
       "      <td>-1.312977</td>\n",
       "    </tr>\n",
       "    <tr>\n",
       "      <th>3</th>\n",
       "      <td>-1.506521</td>\n",
       "      <td>0.106445</td>\n",
       "      <td>-1.284407</td>\n",
       "      <td>-1.312977</td>\n",
       "    </tr>\n",
       "    <tr>\n",
       "      <th>4</th>\n",
       "      <td>-1.021849</td>\n",
       "      <td>1.263460</td>\n",
       "      <td>-1.341272</td>\n",
       "      <td>-1.312977</td>\n",
       "    </tr>\n",
       "  </tbody>\n",
       "</table>\n",
       "</div>"
      ],
      "text/plain": [
       "   SepalLengthCm  SepalWidthCm  PetalLengthCm  PetalWidthCm\n",
       "0      -0.900681      1.032057      -1.341272     -1.312977\n",
       "1      -1.143017     -0.124958      -1.341272     -1.312977\n",
       "2      -1.385353      0.337848      -1.398138     -1.312977\n",
       "3      -1.506521      0.106445      -1.284407     -1.312977\n",
       "4      -1.021849      1.263460      -1.341272     -1.312977"
      ]
     },
     "execution_count": 11,
     "metadata": {},
     "output_type": "execute_result"
    }
   ],
   "source": [
    "# instantiate the 'StandardScaler()'\n",
    "scaler = StandardScaler()\n",
    "\n",
    "# fit the scaler on 'features' and transform the data \n",
    "features = scaler.fit_transform(features)     \n",
    "\n",
    "# create a dataframe of the scaled features \n",
    "# pass the required column names to the parameter 'columns'\n",
    "features_scaled = pd.DataFrame(features, columns = iris.columns)\n",
    "                               \n",
    "# head() to display top five rows\n",
    "features_scaled.head()"
   ]
  },
  {
   "cell_type": "markdown",
   "id": "ee787779",
   "metadata": {},
   "source": [
    "**Thus, we have scaled all the features in the data and stored it in a dataframe 'features_scaled'.**"
   ]
  },
  {
   "cell_type": "markdown",
   "id": "3ee5e77d",
   "metadata": {},
   "source": [
    "# 4. K-means Clustering"
   ]
  },
  {
   "cell_type": "markdown",
   "id": "fa0febdf",
   "metadata": {},
   "source": [
    "K-means is the most widely-used centroid-based clustering algorithm. In this method, we need to prespecify the number of clusters to the algorithm. This method tends to build more circular clusters.\n",
    "\n",
    "Let us first identify the optimal number of clusters and analyze the obtained clusters."
   ]
  },
  {
   "cell_type": "markdown",
   "id": "e1363cf4",
   "metadata": {},
   "source": [
    "### 4.1 Identify the Optimal Number of Clusters"
   ]
  },
  {
   "cell_type": "markdown",
   "id": "e6fe290d",
   "metadata": {},
   "source": [
    "Plot the elbow plot and identify the optimal number of clusters. Also, use the silhouette score method to validate the optimal number of clusters."
   ]
  },
  {
   "cell_type": "markdown",
   "id": "458a1e8d",
   "metadata": {},
   "source": [
    "We do not know how many clusters give the most useful results. So, we create the clusters with varying K, from 1 to 7 and then decide the optimum number of clusters (K) with the help of the elbow plot."
   ]
  },
  {
   "cell_type": "code",
   "execution_count": 12,
   "id": "5d6d565f",
   "metadata": {},
   "outputs": [],
   "source": [
    "# create several cluster combinations ranging from 1 to 7 and observe the wcss (Within Cluster Sum of Squares) for each cluster\n",
    "# consider an empty list to store the WCSS\n",
    "wcss  = []\n",
    "\n",
    "# use for loop to perform K-means with different values of K\n",
    "# set the 'random_state' to obtain the same centroid initialization for each code run\n",
    "# fit the model on scaled data\n",
    "# append the value of WCSS for each K to the list 'wcss'\n",
    "# the 'inertia_' retuns the WCSS for specific value of K\n",
    "for i in range(1,8):\n",
    "    kmeans = KMeans(n_clusters = i, random_state = 10)\n",
    "    kmeans.fit(features_scaled)\n",
    "    wcss.append(kmeans.inertia_)"
   ]
  },
  {
   "cell_type": "markdown",
   "id": "69fb285e",
   "metadata": {},
   "source": [
    "Let us plot the elbow plot and identify the elbow point.\n"
   ]
  },
  {
   "cell_type": "code",
   "execution_count": 23,
   "id": "178fe7b7",
   "metadata": {},
   "outputs": [
    {
     "data": {
      "image/png": "[encoded data removed]",
      "text/plain": [
       "<Figure size 1500x800 with 1 Axes>"
      ]
     },
     "metadata": {},
     "output_type": "display_data"
    }
   ],
   "source": [
    "# visualize the elbow plot to get the optimal value of K\n",
    "plt.plot(range(1,8), wcss)\n",
    "\n",
    "# set the axes and plot labels\n",
    "# set the font size using 'fontsize'\n",
    "plt.title('Elbow Plot', fontsize = 15)\n",
    "plt.xlabel('No. of clusters (K)', fontsize = 15)\n",
    "plt.ylabel('WCSS', fontsize = 15)\n",
    "\n",
    "# display the plot\n",
    "plt.grid()\n",
    "plt.show()"
   ]
  },
  {
   "cell_type": "markdown",
   "id": "340fe5f3",
   "metadata": {},
   "source": [
    "From the above plot, we can consider the K = 2 or 3 as the optimal number of clusters; as after these values, the WCSS is not decreasing rapidly."
   ]
  },
  {
   "cell_type": "code",
   "execution_count": 14,
   "id": "03765b36",
   "metadata": {},
   "outputs": [
    {
     "data": {
      "text/plain": [
       "2"
      ]
     },
     "execution_count": 14,
     "metadata": {},
     "output_type": "execute_result"
    }
   ],
   "source": [
    "# import the 'KneeLocator' \n",
    "from kneed.knee_locator import KneeLocator\n",
    "\n",
    "# pass the number of clusters and corresponding WCSS to parameters 'x' and 'y' respectively\n",
    "# pass the type of the curve to the parameter 'curve'\n",
    "# pass the direction of the data points to the parameter 'direction' \n",
    "k = KneeLocator(x  = range(1,8), y = wcss, curve = 'convex', direction = 'decreasing')\n",
    "\n",
    "# 'elbow' returns the corresponding x-axis value at the maximum curvature \n",
    "k.elbow"
   ]
  },
  {
   "cell_type": "markdown",
   "id": "c2cb92ac",
   "metadata": {},
   "source": [
    "The python in-built elbow locator function returns K = 2 as the optimal value for the number of clusters."
   ]
  },
  {
   "cell_type": "markdown",
   "id": "ef85b637",
   "metadata": {},
   "source": [
    "**Use the silhouette score method to validate the optimal number of clusters**"
   ]
  },
  {
   "cell_type": "markdown",
   "id": "a1bdf433",
   "metadata": {},
   "source": [
    "Let us find the silhouette score with different values of K from 2 to 7. We consider the optimal value of K for which the silhouette score is maximum.\n",
    "\n",
    "**Note: Since the silhouette score considers the inter-cluster and intra-cluster distance, we never set K = 1.**"
   ]
  },
  {
   "cell_type": "code",
   "execution_count": 15,
   "id": "0b9055c2",
   "metadata": {},
   "outputs": [
    {
     "name": "stdout",
     "output_type": "stream",
     "text": [
      "For n_clusters = 2, silhouette score is 0.580184463257396)\n",
      "For n_clusters = 3, silhouette score is 0.46214947389312017)\n",
      "For n_clusters = 4, silhouette score is 0.3868603029959941)\n",
      "For n_clusters = 5, silhouette score is 0.344785734559291)\n",
      "For n_clusters = 6, silhouette score is 0.3259365058730077)\n",
      "For n_clusters = 7, silhouette score is 0.3346062225960434)\n"
     ]
    }
   ],
   "source": [
    "# create a list for different values of K\n",
    "n_clusters = [2, 3, 4, 5, 6, 7]\n",
    "\n",
    "# use 'for' loop to build the clusters with different K\n",
    "# 'random_state' returns the same sample each time you run the code  \n",
    "# fit and predict on the scaled data\n",
    "for K in n_clusters :\n",
    "    cluster = KMeans (n_clusters = K, random_state = 10)\n",
    "    predict = cluster.fit_predict(features_scaled)\n",
    "    \n",
    "    # 'silhouette_score' function computes the silhouette score for each K\n",
    "    # pass the scaled data and predicted labels to the 'silhouette_score()'\n",
    "    score = silhouette_score(features_scaled, predict, random_state= 10)\n",
    "    print (\"For n_clusters = {}, silhouette score is {})\".format(K, score))"
   ]
  },
  {
   "cell_type": "markdown",
   "id": "8b59163f",
   "metadata": {},
   "source": [
    "The optimum value for K is associated with the highest value of the silhouette score. From the above output it can be seen that, for K = 2, the score is the highest."
   ]
  },
  {
   "cell_type": "markdown",
   "id": "2b42d958",
   "metadata": {},
   "source": [
    "From the elbow plot and silhouette score method, we can consider the optimal number of clusters as 2.\n",
    "\n",
    "Now let us group the dataset into 2 clusters."
   ]
  },
  {
   "cell_type": "markdown",
   "id": "08e59c9d",
   "metadata": {},
   "source": [
    "### 4.2 Build the Model"
   ]
  },
  {
   "cell_type": "markdown",
   "id": "ecd4e31e",
   "metadata": {},
   "source": [
    "Let us group the dataset into 2 clusters and check the number of elements in each cluster."
   ]
  },
  {
   "cell_type": "code",
   "execution_count": 16,
   "id": "c364ddb1",
   "metadata": {},
   "outputs": [
    {
     "data": {
      "text/html": [
       "<style>#sk-container-id-1 {color: black;background-color: white;}#sk-container-id-1 pre{padding: 0;}#sk-container-id-1 div.sk-toggleable {background-color: white;}#sk-container-id-1 label.sk-toggleable__label {cursor: pointer;display: block;width: 100%;margin-bottom: 0;padding: 0.3em;box-sizing: border-box;text-align: center;}#sk-container-id-1 label.sk-toggleable__label-arrow:before {content: \"▸\";float: left;margin-right: 0.25em;color: #696969;}#sk-container-id-1 label.sk-toggleable__label-arrow:hover:before {color: black;}#sk-container-id-1 div.sk-estimator:hover label.sk-toggleable__label-arrow:before {color: black;}#sk-container-id-1 div.sk-toggleable__content {max-height: 0;max-width: 0;overflow: hidden;text-align: left;background-color: #f0f8ff;}#sk-container-id-1 div.sk-toggleable__content pre {margin: 0.2em;color: black;border-radius: 0.25em;background-color: #f0f8ff;}#sk-container-id-1 input.sk-toggleable__control:checked~div.sk-toggleable__content {max-height: 200px;max-width: 100%;overflow: auto;}#sk-container-id-1 input.sk-toggleable__control:checked~label.sk-toggleable__label-arrow:before {content: \"▾\";}#sk-container-id-1 div.sk-estimator input.sk-toggleable__control:checked~label.sk-toggleable__label {background-color: #d4ebff;}#sk-container-id-1 div.sk-label input.sk-toggleable__control:checked~label.sk-toggleable__label {background-color: #d4ebff;}#sk-container-id-1 input.sk-hidden--visually {border: 0;clip: rect(1px 1px 1px 1px);clip: rect(1px, 1px, 1px, 1px);height: 1px;margin: -1px;overflow: hidden;padding: 0;position: absolute;width: 1px;}#sk-container-id-1 div.sk-estimator {font-family: monospace;background-color: #f0f8ff;border: 1px dotted black;border-radius: 0.25em;box-sizing: border-box;margin-bottom: 0.5em;}#sk-container-id-1 div.sk-estimator:hover {background-color: #d4ebff;}#sk-container-id-1 div.sk-parallel-item::after {content: \"\";width: 100%;border-bottom: 1px solid gray;flex-grow: 1;}#sk-container-id-1 div.sk-label:hover label.sk-toggleable__label {background-color: #d4ebff;}#sk-container-id-1 div.sk-serial::before {content: \"\";position: absolute;border-left: 1px solid gray;box-sizing: border-box;top: 0;bottom: 0;left: 50%;z-index: 0;}#sk-container-id-1 div.sk-serial {display: flex;flex-direction: column;align-items: center;background-color: white;padding-right: 0.2em;padding-left: 0.2em;position: relative;}#sk-container-id-1 div.sk-item {position: relative;z-index: 1;}#sk-container-id-1 div.sk-parallel {display: flex;align-items: stretch;justify-content: center;background-color: white;position: relative;}#sk-container-id-1 div.sk-item::before, #sk-container-id-1 div.sk-parallel-item::before {content: \"\";position: absolute;border-left: 1px solid gray;box-sizing: border-box;top: 0;bottom: 0;left: 50%;z-index: -1;}#sk-container-id-1 div.sk-parallel-item {display: flex;flex-direction: column;z-index: 1;position: relative;background-color: white;}#sk-container-id-1 div.sk-parallel-item:first-child::after {align-self: flex-end;width: 50%;}#sk-container-id-1 div.sk-parallel-item:last-child::after {align-self: flex-start;width: 50%;}#sk-container-id-1 div.sk-parallel-item:only-child::after {width: 0;}#sk-container-id-1 div.sk-dashed-wrapped {border: 1px dashed gray;margin: 0 0.4em 0.5em 0.4em;box-sizing: border-box;padding-bottom: 0.4em;background-color: white;}#sk-container-id-1 div.sk-label label {font-family: monospace;font-weight: bold;display: inline-block;line-height: 1.2em;}#sk-container-id-1 div.sk-label-container {text-align: center;}#sk-container-id-1 div.sk-container {/* jupyter's `normalize.less` sets `[hidden] { display: none; }` but bootstrap.min.css set `[hidden] { display: none !important; }` so we also need the `!important` here to be able to override the default hidden behavior on the sphinx rendered scikit-learn.org. See: https://github.com/scikit-learn/scikit-learn/issues/21755 */display: inline-block !important;position: relative;}#sk-container-id-1 div.sk-text-repr-fallback {display: none;}</style><div id=\"sk-container-id-1\" class=\"sk-top-container\"><div class=\"sk-text-repr-fallback\"><pre>KMeans(n_clusters=2, random_state=10)</pre><b>In a Jupyter environment, please rerun this cell to show the HTML representation or trust the notebook. <br />On GitHub, the HTML representation is unable to render, please try loading this page with nbviewer.org.</b></div><div class=\"sk-container\" hidden><div class=\"sk-item\"><div class=\"sk-estimator sk-toggleable\"><input class=\"sk-toggleable__control sk-hidden--visually\" id=\"sk-estimator-id-1\" type=\"checkbox\" checked><label for=\"sk-estimator-id-1\" class=\"sk-toggleable__label sk-toggleable__label-arrow\">KMeans</label><div class=\"sk-toggleable__content\"><pre>KMeans(n_clusters=2, random_state=10)</pre></div></div></div></div></div>"
      ],
      "text/plain": [
       "KMeans(n_clusters=2, random_state=10)"
      ]
     },
     "execution_count": 16,
     "metadata": {},
     "output_type": "execute_result"
    }
   ],
   "source": [
    "# build a K-Means model for K = 3\n",
    "# pass the 'random_state' to obtain the same centroid initialization for each code run\n",
    "K_model = KMeans(n_clusters= 2, random_state= 10)\n",
    "\n",
    "# fit the model on the scaled data\n",
    "K_model.fit(features_scaled)"
   ]
  },
  {
   "cell_type": "markdown",
   "id": "2944c087",
   "metadata": {},
   "source": [
    "**As we have built the 2 clusters, now we want to know how many species belong to each cluster.**"
   ]
  },
  {
   "cell_type": "code",
   "execution_count": 17,
   "id": "4a77d5ee",
   "metadata": {},
   "outputs": [
    {
     "data": {
      "text/html": [
       "<div>\n",
       "<style scoped>\n",
       "    .dataframe tbody tr th:only-of-type {\n",
       "        vertical-align: middle;\n",
       "    }\n",
       "\n",
       "    .dataframe tbody tr th {\n",
       "        vertical-align: top;\n",
       "    }\n",
       "\n",
       "    .dataframe thead th {\n",
       "        text-align: right;\n",
       "    }\n",
       "</style>\n",
       "<table border=\"1\" class=\"dataframe\">\n",
       "  <thead>\n",
       "    <tr style=\"text-align: right;\">\n",
       "      <th></th>\n",
       "      <th>SepalLengthCm</th>\n",
       "      <th>SepalWidthCm</th>\n",
       "      <th>PetalLengthCm</th>\n",
       "      <th>PetalWidthCm</th>\n",
       "      <th>Kmeans_label</th>\n",
       "    </tr>\n",
       "  </thead>\n",
       "  <tbody>\n",
       "    <tr>\n",
       "      <th>0</th>\n",
       "      <td>5.1</td>\n",
       "      <td>3.5</td>\n",
       "      <td>1.4</td>\n",
       "      <td>0.2</td>\n",
       "      <td>0</td>\n",
       "    </tr>\n",
       "    <tr>\n",
       "      <th>1</th>\n",
       "      <td>4.9</td>\n",
       "      <td>3.0</td>\n",
       "      <td>1.4</td>\n",
       "      <td>0.2</td>\n",
       "      <td>0</td>\n",
       "    </tr>\n",
       "    <tr>\n",
       "      <th>2</th>\n",
       "      <td>4.7</td>\n",
       "      <td>3.2</td>\n",
       "      <td>1.3</td>\n",
       "      <td>0.2</td>\n",
       "      <td>0</td>\n",
       "    </tr>\n",
       "    <tr>\n",
       "      <th>3</th>\n",
       "      <td>4.6</td>\n",
       "      <td>3.1</td>\n",
       "      <td>1.5</td>\n",
       "      <td>0.2</td>\n",
       "      <td>0</td>\n",
       "    </tr>\n",
       "    <tr>\n",
       "      <th>4</th>\n",
       "      <td>5.0</td>\n",
       "      <td>3.6</td>\n",
       "      <td>1.4</td>\n",
       "      <td>0.2</td>\n",
       "      <td>0</td>\n",
       "    </tr>\n",
       "  </tbody>\n",
       "</table>\n",
       "</div>"
      ],
      "text/plain": [
       "   SepalLengthCm  SepalWidthCm  PetalLengthCm  PetalWidthCm  Kmeans_label\n",
       "0            5.1           3.5            1.4           0.2             0\n",
       "1            4.9           3.0            1.4           0.2             0\n",
       "2            4.7           3.2            1.3           0.2             0\n",
       "3            4.6           3.1            1.5           0.2             0\n",
       "4            5.0           3.6            1.4           0.2             0"
      ]
     },
     "execution_count": 17,
     "metadata": {},
     "output_type": "execute_result"
    }
   ],
   "source": [
    "# add a column 'Kmeans_label' to the original dataframe\n",
    "# the 'labels_' returns the cluster number for each observation\n",
    "iris['Kmeans_label'] = K_model.labels_\n",
    "\n",
    "# use the 'head()' to display top five rows\n",
    "iris.head()"
   ]
  },
  {
   "cell_type": "markdown",
   "id": "d0e5c403",
   "metadata": {},
   "source": [
    "The new column of cluster label added to the dataframe that indicates the cluster number for each observation."
   ]
  },
  {
   "cell_type": "markdown",
   "id": "27313ff0",
   "metadata": {},
   "source": [
    "**Check the size of each cluster**"
   ]
  },
  {
   "cell_type": "code",
   "execution_count": 18,
   "id": "1585d42b",
   "metadata": {},
   "outputs": [
    {
     "data": {
      "text/plain": [
       "(array([0, 1]), array([ 50, 100], dtype=int64))"
      ]
     },
     "execution_count": 18,
     "metadata": {},
     "output_type": "execute_result"
    }
   ],
   "source": [
    "# the 'unique()' returns the number of distinct clusters\n",
    "# the 'return_counts = True' gives the number observation in each cluster\n",
    "np.unique(K_model.labels_, return_counts=True)                "
   ]
  },
  {
   "cell_type": "markdown",
   "id": "b77f6a48",
   "metadata": {},
   "source": [
    "We have formed two clusters, where there are 50 observartions in one cluster, and 100 in the other one clusters."
   ]
  },
  {
   "cell_type": "markdown",
   "id": "7d05128a",
   "metadata": {},
   "source": [
    "### Plot a barplot to visualize the cluster sizes."
   ]
  },
  {
   "cell_type": "code",
   "execution_count": 19,
   "id": "dccf9b89",
   "metadata": {},
   "outputs": [
    {
     "data": {
      "image/png": "[encoded data removed]",
      "text/plain": [
       "<Figure size 1500x800 with 1 Axes>"
      ]
     },
     "metadata": {},
     "output_type": "display_data"
    }
   ],
   "source": [
    "# use 'seaborn' library to plot a barplot for cluster size\n",
    "sns.countplot(data= iris, x = 'Kmeans_label')\n",
    "\n",
    "# set the axes and plot labels\n",
    "# set the font size using 'fontsize'\n",
    "plt.title('Cluster Sizes', fontsize = 15)\n",
    "plt.xlabel('Cluster Label', fontsize = 15)\n",
    "plt.ylabel('No. Of species', fontsize = 15)\n",
    "# display the plot\n",
    "plt.show()"
   ]
  },
  {
   "cell_type": "markdown",
   "id": "38286054",
   "metadata": {},
   "source": [
    "# 7. Visualize the Clusters"
   ]
  },
  {
   "cell_type": "code",
   "execution_count": 20,
   "id": "5f262f62",
   "metadata": {},
   "outputs": [
    {
     "data": {
      "text/html": [
       "<div>\n",
       "<style scoped>\n",
       "    .dataframe tbody tr th:only-of-type {\n",
       "        vertical-align: middle;\n",
       "    }\n",
       "\n",
       "    .dataframe tbody tr th {\n",
       "        vertical-align: top;\n",
       "    }\n",
       "\n",
       "    .dataframe thead th {\n",
       "        text-align: right;\n",
       "    }\n",
       "</style>\n",
       "<table border=\"1\" class=\"dataframe\">\n",
       "  <thead>\n",
       "    <tr style=\"text-align: right;\">\n",
       "      <th></th>\n",
       "      <th>PC1</th>\n",
       "      <th>PC2</th>\n",
       "    </tr>\n",
       "  </thead>\n",
       "  <tbody>\n",
       "    <tr>\n",
       "      <th>0</th>\n",
       "      <td>-2.264542</td>\n",
       "      <td>0.505704</td>\n",
       "    </tr>\n",
       "    <tr>\n",
       "      <th>1</th>\n",
       "      <td>-2.086426</td>\n",
       "      <td>-0.655405</td>\n",
       "    </tr>\n",
       "    <tr>\n",
       "      <th>2</th>\n",
       "      <td>-2.367950</td>\n",
       "      <td>-0.318477</td>\n",
       "    </tr>\n",
       "    <tr>\n",
       "      <th>3</th>\n",
       "      <td>-2.304197</td>\n",
       "      <td>-0.575368</td>\n",
       "    </tr>\n",
       "    <tr>\n",
       "      <th>4</th>\n",
       "      <td>-2.388777</td>\n",
       "      <td>0.674767</td>\n",
       "    </tr>\n",
       "  </tbody>\n",
       "</table>\n",
       "</div>"
      ],
      "text/plain": [
       "        PC1       PC2\n",
       "0 -2.264542  0.505704\n",
       "1 -2.086426 -0.655405\n",
       "2 -2.367950 -0.318477\n",
       "3 -2.304197 -0.575368\n",
       "4 -2.388777  0.674767"
      ]
     },
     "execution_count": 20,
     "metadata": {},
     "output_type": "execute_result"
    }
   ],
   "source": [
    "# consider 'n_components=2' to get the two principal components \n",
    "# pass the 'random_state' to get the same output for multiple runs\n",
    "pca_2 = PCA(n_components = 2, random_state = 10)\n",
    "\n",
    "# the 'fit_transform()' fits the PCA on the data transforms the data to compute the principal components \n",
    "# pass the standardized data to fit PCA\n",
    "components = pca_2.fit_transform(features_scaled)\n",
    "\n",
    "# create a dataframe of the principal components\n",
    "# pass the required column names to the parameter 'columns'\n",
    "df_pca = pd.DataFrame(data = components, columns = ['PC1', 'PC2'])\n",
    "\n",
    "# head() to display top five rows of the transformed data\n",
    "df_pca.head()"
   ]
  },
  {
   "cell_type": "code",
   "execution_count": 21,
   "id": "05cc5c7f",
   "metadata": {},
   "outputs": [
    {
     "data": {
      "image/png": "[encoded data removed]",
      "text/plain": [
       "<Figure size 2800x1400 with 1 Axes>"
      ]
     },
     "metadata": {},
     "output_type": "display_data"
    }
   ],
   "source": [
    "# set the plot size\n",
    "plt.figure(figsize = (28, 14))\n",
    "\n",
    "# plot a scatterplot to visualize the clusters\n",
    "# pass the 1st and 2nd principal component to the parameter 'x' and 'y' respectively\n",
    "# pass the dataframe of PCA components to the parameter 'data'\n",
    "# pass the size of the data points to the parameter 's'\n",
    "# pass the cluster labels to the parameter 'hue' to display the clusters with different colors\n",
    "# pass the required colors to the parameter 'palette'\n",
    "\n",
    "# plot the first subplot\n",
    "# pass the row, column and plot index to the 'subplot()'\n",
    "plt.subplot(1,3,1)\n",
    "sns.scatterplot(x = 'PC1', y = 'PC2', data = df_pca,  s = 90, hue = iris['Kmeans_label'], palette = 'tab10')\n",
    "\n",
    "\n",
    "# display the plot\n",
    "plt.show()"
   ]
  },
  {
   "cell_type": "code",
   "execution_count": 22,
   "id": "367e2a36",
   "metadata": {},
   "outputs": [
    {
     "name": "stdout",
     "output_type": "stream",
     "text": [
      "[[-0.3640806  -1.41420269  0.1074491   0.00175297]\n",
      " [-0.73463631  1.45201075 -1.29704352 -1.21071997]\n",
      " [ 0.36089019 -0.83277844  0.82296939  0.86019413]\n",
      " [ 1.12524562  0.39338504  1.02434088  1.20078646]\n",
      " [-1.34320731  0.12656736 -1.31407576 -1.30726051]\n",
      " [ 1.96190977 -0.38528594  1.44514709  1.06997085]\n",
      " [ 0.29010652 -0.17283408  0.40783821  0.32816862]]\n"
     ]
    }
   ],
   "source": [
    "print(kmeans.cluster_centers_)"
   ]
  },
  {
   "cell_type": "markdown",
   "id": "2096bbeb",
   "metadata": {},
   "source": [
    "### This concludes the K-Means Workshop."
   ]
  },
  {
   "cell_type": "markdown",
   "id": "d8c8f5d4",
   "metadata": {},
   "source": [
    "# **E N D**"
   ]
  }
 ],
 "metadata": {
  "kernelspec": {
   "display_name": "Python 3 (ipykernel)",
   "language": "python",
   "name": "python3"
  },
  "language_info": {
   "codemirror_mode": {
    "name": "ipython",
    "version": 3
   },
   "file_extension": ".py",
   "mimetype": "text/x-python",
   "name": "python",
   "nbconvert_exporter": "python",
   "pygments_lexer": "ipython3",
   "version": "3.9.13"
  }
 },
 "nbformat": 4,
 "nbformat_minor": 5
}
